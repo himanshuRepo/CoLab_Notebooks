{
  "nbformat": 4,
  "nbformat_minor": 0,
  "metadata": {
    "colab": {
      "name": "Basic_TensorFlow_Example.ipynb",
      "version": "0.3.2",
      "provenance": [],
      "collapsed_sections": [],
      "include_colab_link": true
    },
    "kernelspec": {
      "name": "python3",
      "display_name": "Python 3"
    },
    "accelerator": "GPU"
  },
  "cells": [
    {
      "cell_type": "markdown",
      "metadata": {
        "id": "view-in-github",
        "colab_type": "text"
      },
      "source": [
        "<a href=\"https://colab.research.google.com/github/himanshuRepo/CoLab_Notebooks/blob/master/Basic_TensorFlow_Example.ipynb\" target=\"_parent\"><img src=\"https://colab.research.google.com/assets/colab-badge.svg\" alt=\"Open In Colab\"/></a>"
      ]
    },
    {
      "metadata": {
        "id": "rcw9qsxgTwUa",
        "colab_type": "text"
      },
      "cell_type": "markdown",
      "source": [
        "# TensorFlow Example\n",
        "\n",
        "# a = (b + c) * (c + 2)"
      ]
    },
    {
      "metadata": {
        "id": "OKJAqYGGTiUH",
        "colab_type": "text"
      },
      "cell_type": "markdown",
      "source": [
        "Check the working directory"
      ]
    },
    {
      "metadata": {
        "id": "nOGyQIj2ThAw",
        "colab_type": "code",
        "colab": {}
      },
      "cell_type": "code",
      "source": [
        "!ls \"/content/drive/My Drive/\""
      ],
      "execution_count": 0,
      "outputs": []
    },
    {
      "metadata": {
        "id": "GHN0dIgwTo5k",
        "colab_type": "text"
      },
      "cell_type": "markdown",
      "source": [
        "Change to a specific folder on Google Drive"
      ]
    },
    {
      "metadata": {
        "id": "Uhp5Wt8eThxI",
        "colab_type": "code",
        "colab": {}
      },
      "cell_type": "code",
      "source": [
        "import os\n",
        "os.chdir(\"drive/My Drive/ABC\")"
      ],
      "execution_count": 0,
      "outputs": []
    },
    {
      "metadata": {
        "id": "TRWqT83JDA3a",
        "colab_type": "text"
      },
      "cell_type": "markdown",
      "source": [
        "#Steps to setup Tensorboard\n"
      ]
    },
    {
      "metadata": {
        "id": "CO2Zg2UIDGTw",
        "colab_type": "text"
      },
      "cell_type": "markdown",
      "source": [
        "Install the tensorboardcolab library"
      ]
    },
    {
      "metadata": {
        "id": "vk_TOkmDDLxm",
        "colab_type": "code",
        "colab": {}
      },
      "cell_type": "code",
      "source": [
        "!pip install tensorboardcolab"
      ],
      "execution_count": 0,
      "outputs": []
    },
    {
      "metadata": {
        "id": "FE7pa7iADTzn",
        "colab_type": "text"
      },
      "cell_type": "markdown",
      "source": [
        "Create a tensorboardcolab object"
      ]
    },
    {
      "metadata": {
        "id": "9C0-XHMsDQXv",
        "colab_type": "code",
        "colab": {}
      },
      "cell_type": "code",
      "source": [
        "from tensorboardcolab import TensorBoardColab, TensorBoardColabCallback\n",
        "tbc=TensorBoardColab()"
      ],
      "execution_count": 0,
      "outputs": []
    },
    {
      "metadata": {
        "id": "yh5hM0pTDhGz",
        "colab_type": "text"
      },
      "cell_type": "markdown",
      "source": [
        "A TensorBoard link will automatically be created that can be used to see the results. The Tensorboard will read the data from automatically created folder: './Graph'.\n",
        "\n",
        "Writing data to this folder during the code, use a FileWriter pointing to this location. Eg;\n",
        "summary_writer = tbc.get_writer()"
      ]
    },
    {
      "metadata": {
        "id": "fFsge7LkUJGD",
        "colab_type": "text"
      },
      "cell_type": "markdown",
      "source": [
        "#Import Tensorflow Library"
      ]
    },
    {
      "metadata": {
        "id": "WPH3E1fn1r64",
        "colab_type": "code",
        "colab": {}
      },
      "cell_type": "code",
      "source": [
        "import tensorflow as tf"
      ],
      "execution_count": 0,
      "outputs": []
    },
    {
      "metadata": {
        "id": "cv_HN0ss1r68",
        "colab_type": "text"
      },
      "cell_type": "markdown",
      "source": [
        "# Variable and Constant Declaration Code"
      ]
    },
    {
      "metadata": {
        "id": "iu2n35BK1r69",
        "colab_type": "code",
        "colab": {}
      },
      "cell_type": "code",
      "source": [
        "#First, create a TensorFlow constant\n",
        "const=tf.constant(2.0, name=\"const\")\n",
        "\n",
        "# create TensorFlow variables\n",
        "b = tf.Variable(2.0, name='b')\n",
        "c = tf.Variable(1.0, name='c')"
      ],
      "execution_count": 0,
      "outputs": []
    },
    {
      "metadata": {
        "id": "Ir3MiYsG1r7A",
        "colab_type": "text"
      },
      "cell_type": "markdown",
      "source": [
        "# TensorFlow Operations Code"
      ]
    },
    {
      "metadata": {
        "id": "EJKOw4vm1r7A",
        "colab_type": "code",
        "colab": {}
      },
      "cell_type": "code",
      "source": [
        "# now create some operations\n",
        "d = tf.add(b, c, name='d')\n",
        "e = tf.add(c, const, name='e')\n",
        "a = tf.multiply(d, e, name='a')"
      ],
      "execution_count": 0,
      "outputs": []
    },
    {
      "metadata": {
        "id": "2-W3Xz6r1r7D",
        "colab_type": "text"
      },
      "cell_type": "markdown",
      "source": [
        "# Initialization Code"
      ]
    },
    {
      "metadata": {
        "id": "1EiiUyUe1r7E",
        "colab_type": "text"
      },
      "cell_type": "markdown",
      "source": [
        "Setup an object to initialise the variables and the graph\n",
        "structure."
      ]
    },
    {
      "metadata": {
        "id": "hQP0OjQ31r7E",
        "colab_type": "code",
        "colab": {}
      },
      "cell_type": "code",
      "source": [
        "# setup the variable initialisation\n",
        "init_op = tf.global_variables_initializer()"
      ],
      "execution_count": 0,
      "outputs": []
    },
    {
      "metadata": {
        "id": "T4YUODFhJXe8",
        "colab_type": "code",
        "colab": {}
      },
      "cell_type": "code",
      "source": [
        "saver = tf.train.Saver()"
      ],
      "execution_count": 0,
      "outputs": []
    },
    {
      "metadata": {
        "id": "Flg-XPoK1r7H",
        "colab_type": "text"
      },
      "cell_type": "markdown",
      "source": [
        "# Session Code"
      ]
    },
    {
      "metadata": {
        "id": "LpLRUJCn1r7I",
        "colab_type": "text"
      },
      "cell_type": "markdown",
      "source": [
        "To run the operations between the variables, we need to start\n",
        "a TensorFlow session. The TensorFlow session is an object\n",
        "where all operations are run."
      ]
    },
    {
      "metadata": {
        "id": "NVg5W-lF1r7J",
        "colab_type": "code",
        "colab": {}
      },
      "cell_type": "code",
      "source": [
        "# start the session\n",
        "with tf.Session() as sess:\n",
        "    # initialise the variables\n",
        "    sess.run(init_op)\n",
        "    # compute the output of the graph\n",
        "    a_out = sess.run(a)\n",
        "    print(\"Variable a is {}\".format(a_out))\n",
        "    # Following statemet save the variables in a 'save' folder in the current working directory on Google Drive\n",
        "    save_path = saver.save(sess, \"./save/model.ckpt\")\n",
        "    # Following code save graph to 'Graph' folder in the current working directory on Google Drive\n",
        "    summary_writer = tbc.get_writer()\n",
        "    summary_writer.add_graph(sess.graph)"
      ],
      "execution_count": 0,
      "outputs": []
    },
    {
      "metadata": {
        "collapsed": true,
        "id": "zC7FG08F1r7N",
        "colab_type": "text"
      },
      "cell_type": "markdown",
      "source": [
        "See the graph on the tensorboard"
      ]
    },
    {
      "metadata": {
        "id": "sgYIw5g3LZH3",
        "colab_type": "text"
      },
      "cell_type": "markdown",
      "source": [
        "#Restore the saved variables"
      ]
    },
    {
      "metadata": {
        "id": "HmD8qJj6POP7",
        "colab_type": "text"
      },
      "cell_type": "markdown",
      "source": [
        "Rest the graph as default"
      ]
    },
    {
      "metadata": {
        "id": "3XWP6bjjLZ-Q",
        "colab_type": "code",
        "colab": {}
      },
      "cell_type": "code",
      "source": [
        "tf.reset_default_graph()"
      ],
      "execution_count": 0,
      "outputs": []
    },
    {
      "metadata": {
        "id": "8LqlwTOvPSja",
        "colab_type": "text"
      },
      "cell_type": "markdown",
      "source": [
        "Re-defining the variables"
      ]
    },
    {
      "metadata": {
        "id": "W1AyG4OhL4jL",
        "colab_type": "code",
        "colab": {}
      },
      "cell_type": "code",
      "source": [
        "#First, create a TensorFlow constant\n",
        "const=tf.constant(2.0, name=\"const\")\n",
        "\n",
        "# create TensorFlow variables\n",
        "b = tf.Variable(2.0, name='b')\n",
        "c = tf.Variable(1.0, name='c')\n",
        "\n",
        "# now create some operations\n",
        "d = tf.add(b, c, name='d')\n",
        "e = tf.add(c, const, name='e')\n",
        "a = tf.multiply(d, e, name='a')"
      ],
      "execution_count": 0,
      "outputs": []
    },
    {
      "metadata": {
        "id": "nEWiT7cFPWI2",
        "colab_type": "text"
      },
      "cell_type": "markdown",
      "source": [
        "Defining the Saver object"
      ]
    },
    {
      "metadata": {
        "id": "Eq5oyQHjMnDt",
        "colab_type": "code",
        "colab": {}
      },
      "cell_type": "code",
      "source": [
        "saver = tf.train.Saver()"
      ],
      "execution_count": 0,
      "outputs": []
    },
    {
      "metadata": {
        "id": "RIxPM1baPbcu",
        "colab_type": "text"
      },
      "cell_type": "markdown",
      "source": [
        "Check the restored variables"
      ]
    },
    {
      "metadata": {
        "id": "DrAz56eBLidR",
        "colab_type": "code",
        "colab": {}
      },
      "cell_type": "code",
      "source": [
        "with tf.Session() as sess:\n",
        "  saver.restore(sess, \"./save/model.ckpt\")\n",
        "  b1=sess.run(a)\n",
        "  print(b1)"
      ],
      "execution_count": 0,
      "outputs": []
    }
  ]
}