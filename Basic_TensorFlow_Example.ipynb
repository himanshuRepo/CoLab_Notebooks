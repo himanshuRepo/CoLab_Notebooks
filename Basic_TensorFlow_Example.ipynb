{
  "nbformat": 4,
  "nbformat_minor": 0,
  "metadata": {
    "colab": {
      "name": "Basic TensorFlow Example.ipynb",
      "version": "0.3.2",
      "provenance": [],
      "collapsed_sections": [],
      "include_colab_link": true
    },
    "kernelspec": {
      "name": "python3",
      "display_name": "Python 3"
    },
    "accelerator": "GPU"
  },
  "cells": [
    {
      "cell_type": "markdown",
      "metadata": {
        "id": "view-in-github",
        "colab_type": "text"
      },
      "source": [
        "<a href=\"https://colab.research.google.com/github/himanshuRepo/CoLab_Notebooks/blob/master/Basic_TensorFlow_Example.ipynb\" target=\"_parent\"><img src=\"https://colab.research.google.com/assets/colab-badge.svg\" alt=\"Open In Colab\"/></a>"
      ]
    },
    {
      "metadata": {
        "id": "rcw9qsxgTwUa",
        "colab_type": "text"
      },
      "cell_type": "markdown",
      "source": [
        "# TensorFlow Example:\n",
        "\n",
        "# `a = (b + c) * (c + 2)`"
      ]
    },
    {
      "metadata": {
        "id": "Pvuq3_aDFEFv",
        "colab_type": "text"
      },
      "cell_type": "markdown",
      "source": [
        "#Mount the Google Drive"
      ]
    },
    {
      "metadata": {
        "id": "XRCy5F8qFG6O",
        "colab_type": "code",
        "colab": {}
      },
      "cell_type": "code",
      "source": [
        "from google.colab import drive\n",
        "drive.mount('/content/drive/')"
      ],
      "execution_count": 0,
      "outputs": []
    },
    {
      "metadata": {
        "id": "OKJAqYGGTiUH",
        "colab_type": "text"
      },
      "cell_type": "markdown",
      "source": [
        "Check the working directory"
      ]
    },
    {
      "metadata": {
        "id": "nOGyQIj2ThAw",
        "colab_type": "code",
        "colab": {}
      },
      "cell_type": "code",
      "source": [
        "!ls \"/content/drive/My Drive/\""
      ],
      "execution_count": 0,
      "outputs": []
    },
    {
      "metadata": {
        "id": "GHN0dIgwTo5k",
        "colab_type": "text"
      },
      "cell_type": "markdown",
      "source": [
        "#Change to a specific folder on Google Drive"
      ]
    },
    {
      "metadata": {
        "id": "Uhp5Wt8eThxI",
        "colab_type": "code",
        "colab": {}
      },
      "cell_type": "code",
      "source": [
        "import os\n",
        "os.chdir(\"drive/My Drive/\")"
      ],
      "execution_count": 0,
      "outputs": []
    },
    {
      "metadata": {
        "id": "fFsge7LkUJGD",
        "colab_type": "text"
      },
      "cell_type": "markdown",
      "source": [
        "#Import Tensorflow Library"
      ]
    },
    {
      "metadata": {
        "id": "WPH3E1fn1r64",
        "colab_type": "code",
        "colab": {}
      },
      "cell_type": "code",
      "source": [
        "import tensorflow as tf"
      ],
      "execution_count": 0,
      "outputs": []
    },
    {
      "metadata": {
        "id": "cv_HN0ss1r68",
        "colab_type": "text"
      },
      "cell_type": "markdown",
      "source": [
        "# Variable and Constant Declaration"
      ]
    },
    {
      "metadata": {
        "id": "4Hu1ylVAFqYi",
        "colab_type": "text"
      },
      "cell_type": "markdown",
      "source": [
        "**Constant:** Donot change values during the code execution.\n",
        "\n",
        "**Variable:** Change values during the code execution.\n",
        "\n",
        "**Placeholder:** User define input during the code execution."
      ]
    },
    {
      "metadata": {
        "id": "iu2n35BK1r69",
        "colab_type": "code",
        "colab": {}
      },
      "cell_type": "code",
      "source": [
        "#First, create a TensorFlow constant\n",
        "const=tf.constant(2.0, name=\"const\")\n",
        "\n",
        "# create TensorFlow variables\n",
        "b = tf.Variable(2.0, name='b')\n",
        "c = tf.Variable(1.0, name='c')"
      ],
      "execution_count": 0,
      "outputs": []
    },
    {
      "metadata": {
        "id": "Ir3MiYsG1r7A",
        "colab_type": "text"
      },
      "cell_type": "markdown",
      "source": [
        "# TensorFlow Operations"
      ]
    },
    {
      "metadata": {
        "id": "EJKOw4vm1r7A",
        "colab_type": "code",
        "colab": {}
      },
      "cell_type": "code",
      "source": [
        "# now create some operations\n",
        "d = tf.add(b, c, name='d')\n",
        "e = tf.add(c, const, name='e')\n",
        "a = tf.multiply(d, e, name='a')"
      ],
      "execution_count": 0,
      "outputs": []
    },
    {
      "metadata": {
        "id": "2-W3Xz6r1r7D",
        "colab_type": "text"
      },
      "cell_type": "markdown",
      "source": [
        "# Initialization of variables"
      ]
    },
    {
      "metadata": {
        "id": "1EiiUyUe1r7E",
        "colab_type": "text"
      },
      "cell_type": "markdown",
      "source": [
        "Setup an object to initialise the variables."
      ]
    },
    {
      "metadata": {
        "id": "hQP0OjQ31r7E",
        "colab_type": "code",
        "colab": {}
      },
      "cell_type": "code",
      "source": [
        "# setup the variable initialisation\n",
        "init_op = tf.global_variables_initializer()"
      ],
      "execution_count": 0,
      "outputs": []
    },
    {
      "metadata": {
        "id": "Flg-XPoK1r7H",
        "colab_type": "text"
      },
      "cell_type": "markdown",
      "source": [
        "# Tensorflow Session"
      ]
    },
    {
      "metadata": {
        "id": "LpLRUJCn1r7I",
        "colab_type": "text"
      },
      "cell_type": "markdown",
      "source": [
        "To run the operations between the variables, we need to start\n",
        "a TensorFlow session. The TensorFlow session is an object\n",
        "where all operations are run."
      ]
    },
    {
      "metadata": {
        "id": "NVg5W-lF1r7J",
        "colab_type": "code",
        "colab": {}
      },
      "cell_type": "code",
      "source": [
        "# start the session\n",
        "with tf.Session() as sess:\n",
        "    # initialise the variables\n",
        "    sess.run(init_op)\n",
        "    # compute the output of the graph\n",
        "    a_out = sess.run(a)\n",
        "    print(\"Variable a is {}\".format(a_out))"
      ],
      "execution_count": 0,
      "outputs": []
    }
  ]
}