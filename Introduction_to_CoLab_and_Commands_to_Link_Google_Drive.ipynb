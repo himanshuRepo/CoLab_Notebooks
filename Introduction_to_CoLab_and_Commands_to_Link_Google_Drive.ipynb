{
  "nbformat": 4,
  "nbformat_minor": 0,
  "metadata": {
    "colab": {
      "name": "Introduction to CoLab and Commands to Link Google Drive.ipynb",
      "version": "0.3.2",
      "provenance": [],
      "collapsed_sections": [],
      "include_colab_link": true
    },
    "kernelspec": {
      "name": "python3",
      "display_name": "Python 3"
    },
    "accelerator": "GPU"
  },
  "cells": [
    {
      "cell_type": "markdown",
      "metadata": {
        "id": "view-in-github",
        "colab_type": "text"
      },
      "source": [
        "<a href=\"https://colab.research.google.com/github/himanshuRepo/CoLab_Notebooks/blob/master/Introduction_to_CoLab_and_Commands_to_Link_Google_Drive.ipynb\" target=\"_parent\"><img src=\"https://colab.research.google.com/assets/colab-badge.svg\" alt=\"Open In Colab\"/></a>"
      ]
    },
    {
      "metadata": {
        "id": "dGikOldRJS1G",
        "colab_type": "text"
      },
      "cell_type": "markdown",
      "source": [
        "Dated: 26/Feb/2019"
      ]
    },
    {
      "metadata": {
        "id": "trF8PRqhQ4_y",
        "colab_type": "text"
      },
      "cell_type": "markdown",
      "source": [
        "#Introduction to Google CoLab"
      ]
    },
    {
      "metadata": {
        "id": "cSAXUV9JLkOp",
        "colab_type": "text"
      },
      "cell_type": "markdown",
      "source": [
        "Google CoLab is an executable document, just like the [jupyter](https://jupyter.org/) notebook. On this, notebook gets executed on the cloud-based runtime. The notebook can include executable codes or description in form of text, image, and more. \n",
        "\n",
        "The key advantages of CoLab:\n",
        "- No setup on your own machine.\n",
        "- Notebook are stored on Google Drive.\n",
        "- Use GPU or TPU to execute code.\n",
        "- Provided with code snippets.\n",
        "- Notebook can be shared on Github or other options."
      ]
    },
    {
      "metadata": {
        "id": "lKrqNBKuJzR5",
        "colab_type": "text"
      },
      "cell_type": "markdown",
      "source": [
        "On opening the [Google CoLab](https://colab.research.google.com/), the popup window will provide the option to create python Notebook. This will open a python Notebook, which will be automatically created in a folder 'CoLab Notebooks' on the Google Drive."
      ]
    },
    {
      "metadata": {
        "id": "qAhh943cc0U_",
        "colab_type": "text"
      },
      "cell_type": "markdown",
      "source": [
        "#To select the processing unit"
      ]
    },
    {
      "metadata": {
        "id": "2EtNa41gc61N",
        "colab_type": "text"
      },
      "cell_type": "markdown",
      "source": [
        "1. On the Colab, click on the 'Runtime' option.\n",
        "\n",
        "2.  In the dropdown menu, select the 'Change runtime type '.\n",
        "\n",
        "3. On the popup window, set the Hardware accelerator and then cleck save. "
      ]
    },
    {
      "metadata": {
        "id": "kIMTN4plElNR",
        "colab_type": "text"
      },
      "cell_type": "markdown",
      "source": [
        "# Steps to link the Colab file with the Google Drive"
      ]
    },
    {
      "metadata": {
        "id": "YJkRX8q8da5D",
        "colab_type": "text"
      },
      "cell_type": "markdown",
      "source": [
        ""
      ]
    },
    {
      "metadata": {
        "id": "Se1iQ5XrEtR1",
        "colab_type": "text"
      },
      "cell_type": "markdown",
      "source": [
        "Steps to mount the Googe Drive"
      ]
    },
    {
      "metadata": {
        "id": "QP2V0ZWHCmMY",
        "colab_type": "code",
        "colab": {}
      },
      "cell_type": "code",
      "source": [
        "from google.colab import drive\n",
        "drive.mount('/content/drive/')"
      ],
      "execution_count": 0,
      "outputs": []
    },
    {
      "metadata": {
        "id": "mzSR73MlCcmI",
        "colab_type": "text"
      },
      "cell_type": "markdown",
      "source": [
        "Verify by checking the contents of a Google Drive Folder"
      ]
    },
    {
      "metadata": {
        "id": "knd-Q6EbCt1t",
        "colab_type": "code",
        "colab": {}
      },
      "cell_type": "code",
      "source": [
        "!ls \"/content/drive/My Drive/\""
      ],
      "execution_count": 0,
      "outputs": []
    },
    {
      "metadata": {
        "id": "Az9FhSMYCs7l",
        "colab_type": "text"
      },
      "cell_type": "markdown",
      "source": [
        "#Change the working directory to specific folder on Google Drive"
      ]
    },
    {
      "metadata": {
        "id": "TsCIhGLAGCuX",
        "colab_type": "text"
      },
      "cell_type": "markdown",
      "source": [
        "Suppose you want to define a folder e.g., 'ABC', which is already on your Google Drive, as your current working directory for Colab. "
      ]
    },
    {
      "metadata": {
        "id": "-ezzxG0DCxZN",
        "colab_type": "code",
        "colab": {}
      },
      "cell_type": "code",
      "source": [
        "import os\n",
        "os.chdir(\"drive/My Drive/ABC\")"
      ],
      "execution_count": 0,
      "outputs": []
    },
    {
      "metadata": {
        "id": "FesoFrbsRHyv",
        "colab_type": "text"
      },
      "cell_type": "markdown",
      "source": [
        "#Steps to create a folder on your Google Drive"
      ]
    },
    {
      "metadata": {
        "id": "JPSJKcp3RLLe",
        "colab_type": "text"
      },
      "cell_type": "markdown",
      "source": [
        "1. Go to Google Drive.\n",
        "2. Login in to your Google Drive if not.\n",
        "3. On Google Drive, click the  '+New' option and then option 'Folder'.\n",
        "4. Name the folder you wish and then click 'Create'.\n",
        "5. A folder with entered name will appear on Google Drive."
      ]
    }
  ]
}