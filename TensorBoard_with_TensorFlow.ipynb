{
  "nbformat": 4,
  "nbformat_minor": 0,
  "metadata": {
    "colab": {
      "name": "TensorBoard with TensorFlow.ipynb",
      "version": "0.3.2",
      "provenance": [],
      "collapsed_sections": [],
      "include_colab_link": true
    },
    "kernelspec": {
      "name": "python3",
      "display_name": "Python 3"
    }
  },
  "cells": [
    {
      "cell_type": "markdown",
      "metadata": {
        "id": "view-in-github",
        "colab_type": "text"
      },
      "source": [
        "<a href=\"https://colab.research.google.com/github/himanshuRepo/CoLab_Notebooks/blob/master/TensorBoard_with_TensorFlow.ipynb\" target=\"_parent\"><img src=\"https://colab.research.google.com/assets/colab-badge.svg\" alt=\"Open In Colab\"/></a>"
      ]
    },
    {
      "metadata": {
        "id": "cMLDZwfb9bRO",
        "colab_type": "text"
      },
      "cell_type": "markdown",
      "source": [
        "#Tensorboard with TensorFlow in CoLab"
      ]
    },
    {
      "metadata": {
        "id": "3s1rClM29p1e",
        "colab_type": "text"
      },
      "cell_type": "markdown",
      "source": [
        "## Install TensorboardCoLab"
      ]
    },
    {
      "metadata": {
        "id": "_6XjWbMp9c8h",
        "colab_type": "text"
      },
      "cell_type": "markdown",
      "source": [
        "First, install the tensorboardcolab library"
      ]
    },
    {
      "metadata": {
        "id": "ik7amMP49w-1",
        "colab_type": "code",
        "colab": {}
      },
      "cell_type": "code",
      "source": [
        "!pip install tensorboardcolab"
      ],
      "execution_count": 0,
      "outputs": []
    },
    {
      "metadata": {
        "id": "C2a06PXH90xP",
        "colab_type": "text"
      },
      "cell_type": "markdown",
      "source": [
        "##To get the link to Tensorboard"
      ]
    },
    {
      "metadata": {
        "id": "H7NU7Rts-dOW",
        "colab_type": "text"
      },
      "cell_type": "markdown",
      "source": [
        "Import the TensorBoardCoLab"
      ]
    },
    {
      "metadata": {
        "id": "O9yyQ8Rm-Q2k",
        "colab_type": "code",
        "colab": {}
      },
      "cell_type": "code",
      "source": [
        "from tensorboardcolab import TensorBoardColab"
      ],
      "execution_count": 0,
      "outputs": []
    },
    {
      "metadata": {
        "id": "EK1lrTvw99w2",
        "colab_type": "text"
      },
      "cell_type": "markdown",
      "source": [
        "Create a tensorboardcolab object"
      ]
    },
    {
      "metadata": {
        "id": "ZGtHTGC9-kgQ",
        "colab_type": "code",
        "colab": {}
      },
      "cell_type": "code",
      "source": [
        "tbc=TensorBoardColab()"
      ],
      "execution_count": 0,
      "outputs": []
    },
    {
      "metadata": {
        "id": "2teIvcU2-1lY",
        "colab_type": "text"
      },
      "cell_type": "markdown",
      "source": [
        "A TensorBoard link will be created which is used to see the results. The Tensorboard will read the data from a folder: '***`./Graph`***' which is automatically created in the current working directory.\n",
        "\n",
        "Writing data to this folder, create a FileWriter pointing to this location. Eg; ***`summary_writer = tbc.get_writer()`*** before the starting the Tensorflow session.\n",
        "\n",
        "Within the Tensorflow session, use the following line to add data:\n",
        "***`summary_writer.add_graph(sess.graph)`***"
      ]
    },
    {
      "metadata": {
        "id": "wXvLPs_ZAbpL",
        "colab_type": "text"
      },
      "cell_type": "markdown",
      "source": [
        "#Examples to visualize Graph"
      ]
    },
    {
      "metadata": {
        "id": "dcnBgUW_Arii",
        "colab_type": "text"
      },
      "cell_type": "markdown",
      "source": [
        "## 1. For equation: `x=(a+b)`"
      ]
    },
    {
      "metadata": {
        "id": "dxR5xgSO0Caq",
        "colab_type": "code",
        "colab": {}
      },
      "cell_type": "code",
      "source": [
        "import tensorflow as tf"
      ],
      "execution_count": 0,
      "outputs": []
    },
    {
      "metadata": {
        "id": "MbsR7aXX0bEU",
        "colab_type": "code",
        "colab": {}
      },
      "cell_type": "code",
      "source": [
        "from tensorboardcolab import TensorBoardColab\n",
        "tbc=TensorBoardColab()"
      ],
      "execution_count": 0,
      "outputs": []
    },
    {
      "metadata": {
        "id": "1KRzK5iXBxZT",
        "colab_type": "text"
      },
      "cell_type": "markdown",
      "source": [
        "Click on the generated link."
      ]
    },
    {
      "metadata": {
        "id": "go5kjo6a0O4d",
        "colab_type": "code",
        "colab": {}
      },
      "cell_type": "code",
      "source": [
        "a = tf.constant(2, name='a')\n",
        "b = tf.constant(3, name='b')\n",
        "x = tf.add(a, b)\n",
        "summary_writer = tbc.get_writer()"
      ],
      "execution_count": 0,
      "outputs": []
    },
    {
      "metadata": {
        "id": "-8M8-KmL0UZ-",
        "colab_type": "code",
        "colab": {}
      },
      "cell_type": "code",
      "source": [
        "with tf.Session() as sess:\n",
        "  x_out= sess.run(x)\n",
        "  print(x_out)\n",
        "  summary_writer.add_graph(sess.graph)"
      ],
      "execution_count": 0,
      "outputs": []
    },
    {
      "metadata": {
        "id": "mv-YUxtsBmtd",
        "colab_type": "text"
      },
      "cell_type": "markdown",
      "source": [
        "Refresh the tensorboard link, to see the Graph."
      ]
    },
    {
      "metadata": {
        "id": "J8l-rZvoCp7g",
        "colab_type": "text"
      },
      "cell_type": "markdown",
      "source": [
        "**Note:** In the Graph, nodes will names as '`a`' and '`b`', as specified in the code. If not specified, they would be named as '`const`' and '`const1`'."
      ]
    },
    {
      "metadata": {
        "id": "sJcgjxFIB-3Y",
        "colab_type": "text"
      },
      "cell_type": "markdown",
      "source": [
        "##2. For equation: `x=3+5`"
      ]
    },
    {
      "metadata": {
        "id": "6RHTOpTCCbdx",
        "colab_type": "code",
        "colab": {}
      },
      "cell_type": "code",
      "source": [
        "import tensorflow as tf"
      ],
      "execution_count": 0,
      "outputs": []
    },
    {
      "metadata": {
        "id": "Zg1Y5S_yCeu-",
        "colab_type": "code",
        "colab": {}
      },
      "cell_type": "code",
      "source": [
        "from tensorboardcolab import TensorBoardColab\n",
        "tbc=TensorBoardColab()"
      ],
      "execution_count": 0,
      "outputs": []
    },
    {
      "metadata": {
        "id": "_k0WcIiyBcJq",
        "colab_type": "code",
        "colab": {}
      },
      "cell_type": "code",
      "source": [
        "x = tf.add(3, 5)\n",
        "summary_writer = tbc.get_writer()"
      ],
      "execution_count": 0,
      "outputs": []
    },
    {
      "metadata": {
        "id": "PgrmGUOKClvR",
        "colab_type": "code",
        "colab": {}
      },
      "cell_type": "code",
      "source": [
        "with tf.Session() as sess:\n",
        "  x_out= sess.run(x)\n",
        "  print(x_out)\n",
        "  summary_writer.add_graph(sess.graph)"
      ],
      "execution_count": 0,
      "outputs": []
    },
    {
      "metadata": {
        "id": "Es6bgOAyDXUH",
        "colab_type": "text"
      },
      "cell_type": "markdown",
      "source": [
        "**Note:** In this case, Graph will automatically name the inputs as '`x`' and '`y`'."
      ]
    },
    {
      "metadata": {
        "id": "XvX-1EjgGseX",
        "colab_type": "text"
      },
      "cell_type": "markdown",
      "source": [
        "##3. For equation: `a = (b + c) * (c + 2)`"
      ]
    },
    {
      "metadata": {
        "id": "ZBqWLi75G3cW",
        "colab_type": "code",
        "colab": {}
      },
      "cell_type": "code",
      "source": [
        "import tensorflow as tf"
      ],
      "execution_count": 0,
      "outputs": []
    },
    {
      "metadata": {
        "id": "V1QT_r8xHKqv",
        "colab_type": "code",
        "colab": {}
      },
      "cell_type": "code",
      "source": [
        "from tensorboardcolab import TensorBoardColab\n",
        "tbc=TensorBoardColab()"
      ],
      "execution_count": 0,
      "outputs": []
    },
    {
      "metadata": {
        "id": "A8bSgL6rG6CQ",
        "colab_type": "code",
        "colab": {}
      },
      "cell_type": "code",
      "source": [
        "#First, create a TensorFlow constant\n",
        "const=tf.constant(2.0, name=\"const\")\n",
        "\n",
        "# create TensorFlow variables\n",
        "b = tf.Variable(2.0, name='b')\n",
        "c = tf.Variable(1.0, name='c')"
      ],
      "execution_count": 0,
      "outputs": []
    },
    {
      "metadata": {
        "id": "c5F5YACLG8gs",
        "colab_type": "code",
        "colab": {}
      },
      "cell_type": "code",
      "source": [
        "# now create some operations\n",
        "d = tf.add(b, c, name='d')\n",
        "e = tf.add(c, const, name='e')\n",
        "a = tf.multiply(d, e, name='a')"
      ],
      "execution_count": 0,
      "outputs": []
    },
    {
      "metadata": {
        "id": "5MZkX7jWHRcs",
        "colab_type": "code",
        "colab": {}
      },
      "cell_type": "code",
      "source": [
        "# creating variable\n",
        "summary_writer = tbc.get_writer()"
      ],
      "execution_count": 0,
      "outputs": []
    },
    {
      "metadata": {
        "id": "9NmqXFraG_tn",
        "colab_type": "code",
        "colab": {}
      },
      "cell_type": "code",
      "source": [
        "# setup the variable initialisation\n",
        "init_op = tf.global_variables_initializer()"
      ],
      "execution_count": 0,
      "outputs": []
    },
    {
      "metadata": {
        "id": "4J0T3RTSHFHl",
        "colab_type": "code",
        "colab": {}
      },
      "cell_type": "code",
      "source": [
        "# start the session\n",
        "with tf.Session() as sess:\n",
        "    # initialise the variables\n",
        "    sess.run(init_op)\n",
        "    # compute the output of the graph\n",
        "    a_out = sess.run(a)\n",
        "    print(\"Variable a is {}\".format(a_out))\n",
        "    # Following code save graph to 'Graph' folder in the current working directory on Google Drive\n",
        "    summary_writer = tbc.get_writer()\n",
        "    summary_writer.add_graph(sess.graph)"
      ],
      "execution_count": 0,
      "outputs": []
    }
  ]
}