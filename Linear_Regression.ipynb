{
  "nbformat": 4,
  "nbformat_minor": 0,
  "metadata": {
    "colab": {
      "name": "Linear Regression.ipynb",
      "version": "0.3.2",
      "provenance": [],
      "collapsed_sections": [],
      "include_colab_link": true
    },
    "kernelspec": {
      "name": "python3",
      "display_name": "Python 3"
    },
    "accelerator": "GPU"
  },
  "cells": [
    {
      "cell_type": "markdown",
      "metadata": {
        "id": "view-in-github",
        "colab_type": "text"
      },
      "source": [
        "<a href=\"https://colab.research.google.com/github/himanshuRepo/CoLab_Notebooks/blob/master/Linear_Regression.ipynb\" target=\"_parent\"><img src=\"https://colab.research.google.com/assets/colab-badge.svg\" alt=\"Open In Colab\"/></a>"
      ]
    },
    {
      "metadata": {
        "id": "pyr4me4jRqgy",
        "colab_type": "text"
      },
      "cell_type": "markdown",
      "source": [
        "# Linear Regression in Tensorflow"
      ]
    },
    {
      "metadata": {
        "id": "ulAKc8Wl4iLV",
        "colab_type": "text"
      },
      "cell_type": "markdown",
      "source": [
        "#Mount the Google Drive"
      ]
    },
    {
      "metadata": {
        "id": "iaQpuXAr4lYO",
        "colab_type": "code",
        "colab": {}
      },
      "cell_type": "code",
      "source": [
        "from google.colab import drive\n",
        "drive.mount('/content/drive/')"
      ],
      "execution_count": 0,
      "outputs": []
    },
    {
      "metadata": {
        "id": "MB-uyyVvb9_Z",
        "colab_type": "text"
      },
      "cell_type": "markdown",
      "source": [
        "Check the working directory"
      ]
    },
    {
      "metadata": {
        "id": "867Bnr1IcAq4",
        "colab_type": "code",
        "colab": {}
      },
      "cell_type": "code",
      "source": [
        "!ls \"/content/drive/My Drive/\""
      ],
      "execution_count": 0,
      "outputs": []
    },
    {
      "metadata": {
        "id": "UDyom4ehcMBY",
        "colab_type": "text"
      },
      "cell_type": "markdown",
      "source": [
        "#Change to a specific folder on Google Drive"
      ]
    },
    {
      "metadata": {
        "id": "l2EoT2chcOP_",
        "colab_type": "code",
        "colab": {}
      },
      "cell_type": "code",
      "source": [
        "import os\n",
        "os.chdir(\"drive/My Drive/\")"
      ],
      "execution_count": 0,
      "outputs": []
    },
    {
      "metadata": {
        "id": "Th_drmgPzhp2",
        "colab_type": "text"
      },
      "cell_type": "markdown",
      "source": [
        "#Import the libraries"
      ]
    },
    {
      "metadata": {
        "id": "lBTDS-x2Rqgz",
        "colab_type": "code",
        "colab": {}
      },
      "cell_type": "code",
      "source": [
        "import tensorflow as tf\n",
        "import numpy\n",
        "import matplotlib.pyplot as plt\n",
        "rng = numpy.random"
      ],
      "execution_count": 0,
      "outputs": []
    },
    {
      "metadata": {
        "id": "yJytwsFHzmCK",
        "colab_type": "text"
      },
      "cell_type": "markdown",
      "source": [
        "#Parameter settings"
      ]
    },
    {
      "metadata": {
        "id": "usQ6TA3gRqg2",
        "colab_type": "code",
        "colab": {}
      },
      "cell_type": "code",
      "source": [
        "# Parameters\n",
        "learning_rate = 0.01\n",
        "training_epochs = 1000\n",
        "display_step = 50"
      ],
      "execution_count": 0,
      "outputs": []
    },
    {
      "metadata": {
        "id": "rbgzCJDkzpys",
        "colab_type": "text"
      },
      "cell_type": "markdown",
      "source": [
        "#Defining the Training dataset"
      ]
    },
    {
      "metadata": {
        "id": "uqk-lAg2Rqg5",
        "colab_type": "code",
        "colab": {}
      },
      "cell_type": "code",
      "source": [
        "# Training Data\n",
        "train_X = numpy.asarray([3.3,4.4,5.5,6.71,6.93,4.168,9.779,6.182,7.59,2.167,\n",
        "                         7.042,10.791,5.313,7.997,5.654,9.27,3.1])\n",
        "train_Y = numpy.asarray([1.7,2.76,2.09,3.19,1.694,1.573,3.366,2.596,2.53,1.221,\n",
        "                         2.827,3.465,1.65,2.904,2.42,2.94,1.3])\n",
        "n_samples = train_X.shape[0]"
      ],
      "execution_count": 0,
      "outputs": []
    },
    {
      "metadata": {
        "id": "9Wh6BiLfz1N9",
        "colab_type": "text"
      },
      "cell_type": "markdown",
      "source": [
        "#Defining the tensorflow placeholders and variables"
      ]
    },
    {
      "metadata": {
        "id": "nCJHMQKURqg7",
        "colab_type": "code",
        "colab": {}
      },
      "cell_type": "code",
      "source": [
        "# tf Graph Input\n",
        "X = tf.placeholder(\"float\")\n",
        "Y = tf.placeholder(\"float\")\n",
        "\n",
        "# Set model weights\n",
        "W = tf.Variable(rng.randn(), name=\"weight\")\n",
        "b = tf.Variable(rng.randn(), name=\"bias\")"
      ],
      "execution_count": 0,
      "outputs": []
    },
    {
      "metadata": {
        "id": "sRkS_quOz-BX",
        "colab_type": "text"
      },
      "cell_type": "markdown",
      "source": [
        "#Defining model, cost function, and Optimizer"
      ]
    },
    {
      "metadata": {
        "id": "q8TyEVCURqg9",
        "colab_type": "code",
        "colab": {}
      },
      "cell_type": "code",
      "source": [
        "# Construct a linear model\n",
        "pred = tf.add(tf.multiply(X, W), b)\n",
        "\n",
        "# Mean squared error\n",
        "cost = tf.reduce_sum(tf.pow(pred-Y, 2))/(2*n_samples)\n",
        "# Gradient descent\n",
        "#  Note, minimize() knows to modify W and b because Variable objects are trainable=True by default\n",
        "optimizer = tf.train.GradientDescentOptimizer(learning_rate).minimize(cost)\n",
        "\n",
        "# Initialize the variables (i.e. assign their default value)\n",
        "init = tf.global_variables_initializer()"
      ],
      "execution_count": 0,
      "outputs": []
    },
    {
      "metadata": {
        "id": "vroDGOPY84ln",
        "colab_type": "text"
      },
      "cell_type": "markdown",
      "source": [
        "#Build the model and execute on the training and testing data"
      ]
    },
    {
      "metadata": {
        "id": "nU_mMS7K0Rg2",
        "colab_type": "text"
      },
      "cell_type": "markdown",
      "source": [
        "Create TensorFlow session"
      ]
    },
    {
      "metadata": {
        "id": "aGpz_dUwRqhA",
        "colab_type": "code",
        "cellView": "both",
        "colab": {}
      },
      "cell_type": "code",
      "source": [
        "# Start training\n",
        "sess = tf.Session()\n",
        "# Another option: with tf.Session() as sess:"
      ],
      "execution_count": 0,
      "outputs": []
    },
    {
      "metadata": {
        "id": "-CfW50MH8Edi",
        "colab_type": "text"
      },
      "cell_type": "markdown",
      "source": [
        "Initialize the variables"
      ]
    },
    {
      "metadata": {
        "id": "gy-L2JFo75OR",
        "colab_type": "code",
        "colab": {}
      },
      "cell_type": "code",
      "source": [
        "# Run the initializer\n",
        "sess.run(init)"
      ],
      "execution_count": 0,
      "outputs": []
    },
    {
      "metadata": {
        "id": "U0QohS7t91Iz",
        "colab_type": "text"
      },
      "cell_type": "markdown",
      "source": [
        "Train the model"
      ]
    },
    {
      "metadata": {
        "id": "M1Djd6CO9zy7",
        "colab_type": "code",
        "colab": {}
      },
      "cell_type": "code",
      "source": [
        "# Fit all training data\n",
        "for epoch in range(training_epochs):\n",
        "  for (x, y) in zip(train_X, train_Y):\n",
        "    sess.run(optimizer, feed_dict={X: x, Y: y})\n",
        "\n",
        "    # Display logs per epoch step\n",
        "    if (epoch+1) % display_step == 0:\n",
        "      c = sess.run(cost, feed_dict={X: train_X, Y:train_Y})\n",
        "      print(\"Epoch:\", '%04d' % (epoch+1), \"cost=\", \"{:.9f}\".format(c), \\\n",
        "              \"W=\", sess.run(W), \"b=\", sess.run(b))\n",
        "\n",
        "print(\"Optimization Finished!\")\n",
        "\n",
        "# Print the cost, weight and bias after the model training\n",
        "training_cost = sess.run(cost, feed_dict={X: train_X, Y: train_Y})\n",
        "print(\"Training cost=\", training_cost, \"W=\", sess.run(W), \"b=\", sess.run(b), '\\n')\n",
        "    \n",
        "# Graphic display\n",
        "plt.plot(train_X, train_Y, 'ro', label='Original data')\n",
        "plt.plot(train_X, sess.run(W) * train_X + sess.run(b), label='Fitted line')\n",
        "plt.legend()\n",
        "plt.show()"
      ],
      "execution_count": 0,
      "outputs": []
    },
    {
      "metadata": {
        "id": "SN_yucEV-qu7",
        "colab_type": "text"
      },
      "cell_type": "markdown",
      "source": [
        "Testing the trained model"
      ]
    },
    {
      "metadata": {
        "id": "F9Sa4nYX-m3y",
        "colab_type": "code",
        "colab": {}
      },
      "cell_type": "code",
      "source": [
        "# Testing example:\n",
        "test_X = numpy.asarray([6.83, 4.668, 8.9, 7.91, 5.7, 8.7, 3.1, 2.1])\n",
        "test_Y = numpy.asarray([1.84, 2.273, 3.2, 2.831, 2.92, 3.24, 1.35, 1.03])\n",
        "\n",
        "print(\"Testing... (Mean square loss Comparison)\")\n",
        "testing_cost = sess.run(tf.reduce_sum(tf.pow(pred - Y, 2)) / (2 * test_X.shape[0]),feed_dict={X: test_X, Y: test_Y})  # same function as cost above\n",
        "print(\"Testing cost=\", testing_cost)\n",
        "print(\"Absolute mean square loss difference:\", abs(training_cost - testing_cost))\n",
        "\n",
        "plt.plot(test_X, test_Y, 'bo', label='Testing data')\n",
        "plt.plot(train_X, sess.run(W) * train_X + sess.run(b), label='Fitted line')\n",
        "plt.legend()\n",
        "plt.show()"
      ],
      "execution_count": 0,
      "outputs": []
    },
    {
      "metadata": {
        "id": "cKkbI1sN_BEI",
        "colab_type": "text"
      },
      "cell_type": "markdown",
      "source": [
        "Predict output for new value"
      ]
    },
    {
      "metadata": {
        "id": "zfhgYEnW_E_y",
        "colab_type": "code",
        "colab": {}
      },
      "cell_type": "code",
      "source": [
        "#Predicting output on new value:\n",
        "print(\"For new value '3.5'...\\n\")\n",
        "print(\"Predicted output:\", sess.run(pred,feed_dict={X: 3.5}))"
      ],
      "execution_count": 0,
      "outputs": []
    },
    {
      "metadata": {
        "id": "F_E_wTOp6hzj",
        "colab_type": "text"
      },
      "cell_type": "markdown",
      "source": [
        "#Entering new value through Form "
      ]
    },
    {
      "metadata": {
        "id": "iMeeuSUd6fGj",
        "colab_type": "code",
        "cellView": "both",
        "colab": {}
      },
      "cell_type": "code",
      "source": [
        "#@title Enter a new value { form-width: \"100%\" }\n",
        "New_X = 3.5 #@param {type:\"number\"}\n"
      ],
      "execution_count": 0,
      "outputs": []
    },
    {
      "metadata": {
        "id": "zXVjxit87JDo",
        "colab_type": "code",
        "colab": {}
      },
      "cell_type": "code",
      "source": [
        "#Predicting output on new value:\n",
        "print(\"For new value...\\n\")\n",
        "print(\"Predicted output:\", sess.run(pred,feed_dict={X: New_X} ))"
      ],
      "execution_count": 0,
      "outputs": []
    },
    {
      "metadata": {
        "id": "NTUQSwVQ_gA2",
        "colab_type": "text"
      },
      "cell_type": "markdown",
      "source": [
        "Close the Tensorflow session"
      ]
    },
    {
      "metadata": {
        "id": "jOCYmpsF_kcF",
        "colab_type": "code",
        "colab": {}
      },
      "cell_type": "code",
      "source": [
        "sess.close()"
      ],
      "execution_count": 0,
      "outputs": []
    }
  ]
}